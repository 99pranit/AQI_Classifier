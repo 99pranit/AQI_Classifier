{
 "cells": [
  {
   "cell_type": "markdown",
   "metadata": {},
   "source": [
    "### Import Libraries"
   ]
  },
  {
   "cell_type": "code",
   "execution_count": 33,
   "metadata": {},
   "outputs": [],
   "source": [
    "import pandas as pd\n",
    "import numpy as np\n",
    "import os\n",
    "import m2cgen\n",
    "from sklearn.preprocessing import MinMaxScaler , LabelEncoder\n",
    "from sklearn.model_selection import train_test_split , RandomizedSearchCV\n",
    "from sklearn.ensemble import RandomForestClassifier\n",
    "from sklearn.metrics import classification_report\n",
    "from sklearn.tree import DecisionTreeClassifier\n",
    "from xgboost import XGBClassifier\n",
    "import matplotlib.pyplot as plt\n",
    "import joblib\n",
    "pd.set_option('display.max_columns', None)  # Show all columns\n",
    "pd.set_option('display.max_rows', None)  # Show all rows\n",
    "pd.set_option('display.max_colwidth', None)  # Show full content in each cell\n",
    "pd.set_option('display.width', 1000)  # Set max width"
   ]
  },
  {
   "cell_type": "code",
   "execution_count": 2,
   "metadata": {},
   "outputs": [],
   "source": [
    "path = os.getcwd().replace('notebook' , '') + 'data'\n",
    "folders = os.listdir(path)[1:]\n",
    "dfs = []\n",
    "for folder in folders:\n",
    "    folder_path = path + '/' + folder\n",
    "    for file in os.listdir(folder_path):\n",
    "        dfs.append(pd.read_csv(folder_path + '/' + file))\n",
    "df = pd.concat(dfs, ignore_index=True)\n",
    "# df = df.drop(columns=\"timestamp\" , axis = 1)\n",
    "df['timestamp'] = pd.to_datetime(df['timestamp'], format='%Y-%m-%d %H')\n",
    "df['hour'] = df['timestamp'].dt.hour\n",
    "def assign_bucket(hour):\n",
    "    if 22 <= hour or hour < 8:  # 22-7 → 0\n",
    "        return 0\n",
    "    elif 8 <= hour < 12:        # 8-12 → 1\n",
    "        return 1\n",
    "    elif 12 <= hour < 17:       # 12-17 → 2\n",
    "        return 2\n",
    "    elif 16 <= hour <= 23:      # 16-23 → 3\n",
    "        return 3\n",
    "\n",
    "df['hour_bucket'] = df['hour'].apply(assign_bucket)\n",
    "df['month'] = df['timestamp'].dt.month\n",
    "def assign_season(month):\n",
    "    if 11 <= month or (month>= 1 and month < 4):  # 22-7 → 0\n",
    "        return 0\n",
    "    elif 4 <= month < 8:        # 8-12 → 1\n",
    "        return 1\n",
    "    else:\n",
    "        return 2\n",
    "df['season'] = df['hour'].apply(assign_season)\n",
    "df['day_of_week'] = df['timestamp'].dt.dayofweek \n",
    "x = df.iloc[:,1:]\n",
    "y = x['AQI']\n",
    "x = x.drop(columns = ['AQI'] , axis= 1)\n",
    "\n",
    "\n"
   ]
  },
  {
   "cell_type": "code",
   "execution_count": 3,
   "metadata": {},
   "outputs": [],
   "source": [
    "scaler = MinMaxScaler()\n",
    "x_scaled = scaler.fit_transform(x)\n",
    "x_train , x_test , y_train , y_test = train_test_split(x_scaled , y , test_size= 0.2)\n",
    "x_train , x_val , y_train , y_val = train_test_split(x_train , y_train , test_size= 0.2)\n",
    "\n",
    "# Encode target labels to numeric values\n",
    "label_encoder = LabelEncoder()\n",
    "y_train_encoded = label_encoder.fit_transform(y_train)\n",
    "y_val_encoded = label_encoder.fit_transform(y_val)\n",
    "y_test_encoded = label_encoder.transform(y_test)"
   ]
  },
  {
   "cell_type": "markdown",
   "metadata": {},
   "source": [
    "### Random Forest"
   ]
  },
  {
   "cell_type": "code",
   "execution_count": 14,
   "metadata": {},
   "outputs": [
    {
     "data": {
      "text/html": [
       "<div>\n",
       "<style scoped>\n",
       "    .dataframe tbody tr th:only-of-type {\n",
       "        vertical-align: middle;\n",
       "    }\n",
       "\n",
       "    .dataframe tbody tr th {\n",
       "        vertical-align: top;\n",
       "    }\n",
       "\n",
       "    .dataframe thead th {\n",
       "        text-align: right;\n",
       "    }\n",
       "</style>\n",
       "<table border=\"1\" class=\"dataframe\">\n",
       "  <thead>\n",
       "    <tr style=\"text-align: right;\">\n",
       "      <th></th>\n",
       "      <th>mean_test_score</th>\n",
       "      <th>params</th>\n",
       "    </tr>\n",
       "  </thead>\n",
       "  <tbody>\n",
       "    <tr>\n",
       "      <th>6</th>\n",
       "      <td>0.647405</td>\n",
       "      <td>{'n_estimators': 45, 'max_depth': 20}</td>\n",
       "    </tr>\n",
       "    <tr>\n",
       "      <th>0</th>\n",
       "      <td>0.634795</td>\n",
       "      <td>{'n_estimators': 100, 'max_depth': 30}</td>\n",
       "    </tr>\n",
       "    <tr>\n",
       "      <th>2</th>\n",
       "      <td>0.632736</td>\n",
       "      <td>{'n_estimators': 30, 'max_depth': 25}</td>\n",
       "    </tr>\n",
       "    <tr>\n",
       "      <th>5</th>\n",
       "      <td>0.628839</td>\n",
       "      <td>{'n_estimators': 20, 'max_depth': 30}</td>\n",
       "    </tr>\n",
       "    <tr>\n",
       "      <th>3</th>\n",
       "      <td>0.622176</td>\n",
       "      <td>{'n_estimators': 10, 'max_depth': 30}</td>\n",
       "    </tr>\n",
       "    <tr>\n",
       "      <th>9</th>\n",
       "      <td>0.551075</td>\n",
       "      <td>{'n_estimators': 100, 'max_depth': 10}</td>\n",
       "    </tr>\n",
       "    <tr>\n",
       "      <th>4</th>\n",
       "      <td>0.548726</td>\n",
       "      <td>{'n_estimators': 75, 'max_depth': 10}</td>\n",
       "    </tr>\n",
       "    <tr>\n",
       "      <th>1</th>\n",
       "      <td>0.546937</td>\n",
       "      <td>{'n_estimators': 20, 'max_depth': 10}</td>\n",
       "    </tr>\n",
       "    <tr>\n",
       "      <th>7</th>\n",
       "      <td>0.539626</td>\n",
       "      <td>{'n_estimators': 10, 'max_depth': 10}</td>\n",
       "    </tr>\n",
       "    <tr>\n",
       "      <th>8</th>\n",
       "      <td>0.479491</td>\n",
       "      <td>{'n_estimators': 30, 'max_depth': 7}</td>\n",
       "    </tr>\n",
       "  </tbody>\n",
       "</table>\n",
       "</div>"
      ],
      "text/plain": [
       "   mean_test_score                                  params\n",
       "6         0.647405   {'n_estimators': 45, 'max_depth': 20}\n",
       "0         0.634795  {'n_estimators': 100, 'max_depth': 30}\n",
       "2         0.632736   {'n_estimators': 30, 'max_depth': 25}\n",
       "5         0.628839   {'n_estimators': 20, 'max_depth': 30}\n",
       "3         0.622176   {'n_estimators': 10, 'max_depth': 30}\n",
       "9         0.551075  {'n_estimators': 100, 'max_depth': 10}\n",
       "4         0.548726   {'n_estimators': 75, 'max_depth': 10}\n",
       "1         0.546937   {'n_estimators': 20, 'max_depth': 10}\n",
       "7         0.539626   {'n_estimators': 10, 'max_depth': 10}\n",
       "8         0.479491    {'n_estimators': 30, 'max_depth': 7}"
      ]
     },
     "execution_count": 14,
     "metadata": {},
     "output_type": "execute_result"
    }
   ],
   "source": [
    "rf = RandomForestClassifier()\n",
    "\n",
    "param_dist = {\n",
    "    'n_estimators' : [10 , 20 , 30 , 45 , 75 , 100],\n",
    "    'max_depth' : [5 , 7, 10 , 20 , 25 , 30]\n",
    "    }\n",
    "\n",
    "random_search = RandomizedSearchCV(estimator = rf,\n",
    "                                    param_distributions = param_dist,\n",
    "                                    cv = 5,\n",
    "                                    random_state=42,\n",
    "                                    n_jobs=-1\n",
    "                                    )\n",
    "random_search.fit(x_train, y_train)\n",
    "\n",
    "cv_results = pd.DataFrame(random_search.cv_results_)\n",
    "cv_results = cv_results[[\"mean_test_score\", \"params\"]].sort_values(by=\"mean_test_score\", ascending=False)\n",
    "\n",
    "cv_results "
   ]
  },
  {
   "cell_type": "code",
   "execution_count": 22,
   "metadata": {},
   "outputs": [
    {
     "name": "stdout",
     "output_type": "stream",
     "text": [
      "              precision    recall  f1-score   support\n",
      "\n",
      "           1       0.77      0.76      0.76      6712\n",
      "           2       0.72      0.64      0.68     10100\n",
      "           3       0.48      0.51      0.49      4723\n",
      "           4       0.30      0.40      0.34      2206\n",
      "           5       0.71      0.67      0.69      5752\n",
      "           6       0.69      0.83      0.75      2825\n",
      "\n",
      "    accuracy                           0.65     32318\n",
      "   macro avg       0.61      0.63      0.62     32318\n",
      "weighted avg       0.66      0.65      0.65     32318\n",
      "\n"
     ]
    }
   ],
   "source": [
    "rf = RandomForestClassifier(n_estimators = 45 , max_depth = 20)\n",
    "rf.fit(x_train , y_train)\n",
    "rf.score(x_val , y_val)\n",
    "rf_test_report = classification_report(rf.predict(x_test) , y_test)\n",
    "print(rf_test_report)"
   ]
  },
  {
   "cell_type": "code",
   "execution_count": null,
   "metadata": {},
   "outputs": [
    {
     "name": "stdout",
     "output_type": "stream",
     "text": [
      "189276841\n"
     ]
    }
   ],
   "source": [
    "joblib.dump(rf, os.getcwd().replace('/notebook' , '') + \"/model/random_forest_model.pkl\" )\n",
    "print(os.path.getsize(os.getcwd().replace('/notebook' , '') + \"/model/random_forest_model.pkl\" ))"
   ]
  },
  {
   "cell_type": "markdown",
   "metadata": {},
   "source": [
    "#### Memory Optimization"
   ]
  },
  {
   "cell_type": "code",
   "execution_count": 65,
   "metadata": {},
   "outputs": [
    {
     "name": "stdout",
     "output_type": "stream",
     "text": [
      "              precision    recall  f1-score   support\n",
      "\n",
      "           1       0.54      0.67      0.60      4352\n",
      "           2       0.75      0.46      0.57     11612\n",
      "           3       0.23      0.43      0.30      2086\n",
      "           4       0.04      0.52      0.07       175\n",
      "           5       0.73      0.54      0.62      5760\n",
      "           6       0.59      0.84      0.69      1869\n",
      "\n",
      "    accuracy                           0.54     25854\n",
      "   macro avg       0.48      0.58      0.48     25854\n",
      "weighted avg       0.65      0.54      0.57     25854\n",
      "\n"
     ]
    }
   ],
   "source": [
    "rf = RandomForestClassifier(n_estimators = 10 , max_depth = 10)\n",
    "rf.fit(x_train , y_train)\n",
    "rf.score(x_val , y_val)\n",
    "rf_report = classification_report(rf.predict(x_val) , y_val)\n",
    "print(rf_report)"
   ]
  },
  {
   "cell_type": "code",
   "execution_count": 66,
   "metadata": {},
   "outputs": [
    {
     "name": "stdout",
     "output_type": "stream",
     "text": [
      "              precision    recall  f1-score   support\n",
      "\n",
      "           1       0.57      0.68      0.62     17595\n",
      "           2       0.76      0.48      0.59     45807\n",
      "           3       0.25      0.48      0.33      8313\n",
      "           4       0.05      0.64      0.10       791\n",
      "           5       0.76      0.56      0.65     23482\n",
      "           6       0.61      0.87      0.72      7428\n",
      "\n",
      "    accuracy                           0.56    103416\n",
      "   macro avg       0.50      0.62      0.50    103416\n",
      "weighted avg       0.67      0.56      0.59    103416\n",
      "\n"
     ]
    }
   ],
   "source": [
    "rf_train_report = classification_report(rf.predict(x_train) , y_train)\n",
    "print(rf_train_report)"
   ]
  },
  {
   "cell_type": "code",
   "execution_count": 67,
   "metadata": {},
   "outputs": [
    {
     "name": "stdout",
     "output_type": "stream",
     "text": [
      "              precision    recall  f1-score   support\n",
      "\n",
      "           1       0.55      0.66      0.60      5529\n",
      "           2       0.74      0.47      0.57     14406\n",
      "           3       0.23      0.43      0.30      2609\n",
      "           4       0.03      0.46      0.06       223\n",
      "           5       0.74      0.54      0.62      7246\n",
      "           6       0.58      0.85      0.69      2305\n",
      "\n",
      "    accuracy                           0.54     32318\n",
      "   macro avg       0.48      0.57      0.48     32318\n",
      "weighted avg       0.65      0.54      0.57     32318\n",
      "\n"
     ]
    }
   ],
   "source": [
    "rf_test_report = classification_report(rf.predict(x_test) , y_test)\n",
    "print(rf_test_report)"
   ]
  },
  {
   "cell_type": "code",
   "execution_count": 68,
   "metadata": {},
   "outputs": [
    {
     "name": "stdout",
     "output_type": "stream",
     "text": [
      "1550384\n"
     ]
    }
   ],
   "source": [
    "with open(os.getcwd().replace('/notebook' , '') + \"/model/rf_model.py\" , \"w\") as f:\n",
    "  f.write(m2cgen.export_to_python(rf))\n",
    "print(os.path.getsize(os.getcwd().replace('/notebook' , '') + \"/model/rf_model.py\" ))"
   ]
  },
  {
   "cell_type": "markdown",
   "metadata": {},
   "source": [
    "### Decision Tree"
   ]
  },
  {
   "cell_type": "code",
   "execution_count": 29,
   "metadata": {},
   "outputs": [
    {
     "data": {
      "text/html": [
       "<div>\n",
       "<style scoped>\n",
       "    .dataframe tbody tr th:only-of-type {\n",
       "        vertical-align: middle;\n",
       "    }\n",
       "\n",
       "    .dataframe tbody tr th {\n",
       "        vertical-align: top;\n",
       "    }\n",
       "\n",
       "    .dataframe thead th {\n",
       "        text-align: right;\n",
       "    }\n",
       "</style>\n",
       "<table border=\"1\" class=\"dataframe\">\n",
       "  <thead>\n",
       "    <tr style=\"text-align: right;\">\n",
       "      <th></th>\n",
       "      <th>mean_test_score</th>\n",
       "      <th>params</th>\n",
       "    </tr>\n",
       "  </thead>\n",
       "  <tbody>\n",
       "    <tr>\n",
       "      <th>4</th>\n",
       "      <td>0.587888</td>\n",
       "      <td>{'max_depth': 20, 'criterion': 'gini'}</td>\n",
       "    </tr>\n",
       "    <tr>\n",
       "      <th>5</th>\n",
       "      <td>0.585103</td>\n",
       "      <td>{'max_depth': 25, 'criterion': 'entropy'}</td>\n",
       "    </tr>\n",
       "    <tr>\n",
       "      <th>7</th>\n",
       "      <td>0.583063</td>\n",
       "      <td>{'max_depth': 50, 'criterion': 'entropy'}</td>\n",
       "    </tr>\n",
       "    <tr>\n",
       "      <th>6</th>\n",
       "      <td>0.582328</td>\n",
       "      <td>{'max_depth': 75, 'criterion': 'entropy'}</td>\n",
       "    </tr>\n",
       "    <tr>\n",
       "      <th>8</th>\n",
       "      <td>0.578808</td>\n",
       "      <td>{'max_depth': 15, 'criterion': 'entropy'}</td>\n",
       "    </tr>\n",
       "    <tr>\n",
       "      <th>3</th>\n",
       "      <td>0.576333</td>\n",
       "      <td>{'max_depth': 30, 'criterion': 'gini'}</td>\n",
       "    </tr>\n",
       "    <tr>\n",
       "      <th>9</th>\n",
       "      <td>0.576246</td>\n",
       "      <td>{'max_depth': 15, 'criterion': 'gini'}</td>\n",
       "    </tr>\n",
       "    <tr>\n",
       "      <th>2</th>\n",
       "      <td>0.575878</td>\n",
       "      <td>{'max_depth': 100, 'criterion': 'gini'}</td>\n",
       "    </tr>\n",
       "    <tr>\n",
       "      <th>1</th>\n",
       "      <td>0.508529</td>\n",
       "      <td>{'max_depth': 10, 'criterion': 'gini'}</td>\n",
       "    </tr>\n",
       "    <tr>\n",
       "      <th>0</th>\n",
       "      <td>0.426172</td>\n",
       "      <td>{'max_depth': 5, 'criterion': 'gini'}</td>\n",
       "    </tr>\n",
       "  </tbody>\n",
       "</table>\n",
       "</div>"
      ],
      "text/plain": [
       "   mean_test_score                                     params\n",
       "4         0.587888     {'max_depth': 20, 'criterion': 'gini'}\n",
       "5         0.585103  {'max_depth': 25, 'criterion': 'entropy'}\n",
       "7         0.583063  {'max_depth': 50, 'criterion': 'entropy'}\n",
       "6         0.582328  {'max_depth': 75, 'criterion': 'entropy'}\n",
       "8         0.578808  {'max_depth': 15, 'criterion': 'entropy'}\n",
       "3         0.576333     {'max_depth': 30, 'criterion': 'gini'}\n",
       "9         0.576246     {'max_depth': 15, 'criterion': 'gini'}\n",
       "2         0.575878    {'max_depth': 100, 'criterion': 'gini'}\n",
       "1         0.508529     {'max_depth': 10, 'criterion': 'gini'}\n",
       "0         0.426172      {'max_depth': 5, 'criterion': 'gini'}"
      ]
     },
     "execution_count": 29,
     "metadata": {},
     "output_type": "execute_result"
    }
   ],
   "source": [
    "dt = DecisionTreeClassifier()\n",
    "\n",
    "param_dist = {\n",
    "    'max_depth' : [5 , 10 , 15 , 20 , 25 , 30 , 50, 75 , 100],\n",
    "    'criterion' : ['gini' , 'entropy']\n",
    "    }\n",
    "\n",
    "random_search = RandomizedSearchCV(estimator = dt,\n",
    "                                    param_distributions = param_dist,\n",
    "                                    cv = 5,\n",
    "                                    random_state=42,\n",
    "                                    n_jobs=-1\n",
    "                                    )\n",
    "random_search.fit(x_train, y_train)\n",
    "\n",
    "cv_results = pd.DataFrame(random_search.cv_results_)\n",
    "cv_results = cv_results[[\"mean_test_score\", \"params\"]].sort_values(by=\"mean_test_score\", ascending=False)\n",
    "\n",
    "cv_results "
   ]
  },
  {
   "cell_type": "code",
   "execution_count": 30,
   "metadata": {},
   "outputs": [
    {
     "name": "stdout",
     "output_type": "stream",
     "text": [
      "              precision    recall  f1-score   support\n",
      "\n",
      "           1       0.72      0.70      0.71      6826\n",
      "           2       0.64      0.60      0.62      9637\n",
      "           3       0.44      0.47      0.45      4780\n",
      "           4       0.32      0.34      0.33      2739\n",
      "           5       0.64      0.65      0.65      5310\n",
      "           6       0.68      0.76      0.72      3026\n",
      "\n",
      "    accuracy                           0.60     32318\n",
      "   macro avg       0.57      0.59      0.58     32318\n",
      "weighted avg       0.61      0.60      0.60     32318\n",
      "\n"
     ]
    }
   ],
   "source": [
    "dt = DecisionTreeClassifier(criterion = 'gini' , max_depth = 20)\n",
    "dt.fit(x_train , y_train)\n",
    "dt.score(x_val , y_val)\n",
    "dt_test_report = classification_report(dt.predict(x_test) , y_test)\n",
    "print(dt_test_report)"
   ]
  },
  {
   "cell_type": "code",
   "execution_count": 31,
   "metadata": {},
   "outputs": [
    {
     "name": "stdout",
     "output_type": "stream",
     "text": [
      "4412025\n"
     ]
    }
   ],
   "source": [
    "joblib.dump(dt, os.getcwd().replace('/notebook' , '') + \"/model/decison_tree_model.pkl\" )\n",
    "print(os.path.getsize(os.getcwd().replace('/notebook' , '') + \"/model/decison_tree_model.pkl\" ))"
   ]
  },
  {
   "cell_type": "markdown",
   "metadata": {},
   "source": [
    "#### Memory Optimization"
   ]
  },
  {
   "cell_type": "code",
   "execution_count": 71,
   "metadata": {},
   "outputs": [
    {
     "name": "stdout",
     "output_type": "stream",
     "text": [
      "              precision    recall  f1-score   support\n",
      "\n",
      "           1       0.68      0.68      0.68      5395\n",
      "           2       0.68      0.56      0.62      8587\n",
      "           3       0.43      0.45      0.44      3807\n",
      "           4       0.25      0.38      0.30      1620\n",
      "           5       0.66      0.65      0.65      4278\n",
      "           6       0.66      0.82      0.73      2167\n",
      "\n",
      "    accuracy                           0.59     25854\n",
      "   macro avg       0.56      0.59      0.57     25854\n",
      "weighted avg       0.61      0.59      0.60     25854\n",
      "\n"
     ]
    }
   ],
   "source": [
    "dt = DecisionTreeClassifier(criterion = 'gini' , max_depth = 15)\n",
    "dt.fit(x_train , y_train)\n",
    "dt.score(x_val , y_val)\n",
    "dt_report = classification_report(dt.predict(x_val) , y_val)\n",
    "print(dt_report)"
   ]
  },
  {
   "cell_type": "code",
   "execution_count": 72,
   "metadata": {},
   "outputs": [
    {
     "name": "stdout",
     "output_type": "stream",
     "text": [
      "              precision    recall  f1-score   support\n",
      "\n",
      "           1       0.75      0.73      0.74     21448\n",
      "           2       0.75      0.64      0.69     33914\n",
      "           3       0.55      0.57      0.56     15415\n",
      "           4       0.40      0.61      0.49      6250\n",
      "           5       0.77      0.76      0.76     17719\n",
      "           6       0.76      0.93      0.83      8670\n",
      "\n",
      "    accuracy                           0.69    103416\n",
      "   macro avg       0.66      0.71      0.68    103416\n",
      "weighted avg       0.70      0.69      0.70    103416\n",
      "\n"
     ]
    }
   ],
   "source": [
    "dt_train_report = classification_report(dt.predict(x_train) , y_train)\n",
    "print(dt_train_report)"
   ]
  },
  {
   "cell_type": "code",
   "execution_count": 74,
   "metadata": {},
   "outputs": [
    {
     "name": "stdout",
     "output_type": "stream",
     "text": [
      "              precision    recall  f1-score   support\n",
      "\n",
      "           1       0.69      0.68      0.68      6731\n",
      "           2       0.66      0.56      0.61     10579\n",
      "           3       0.43      0.44      0.44      4884\n",
      "           4       0.26      0.37      0.30      2018\n",
      "           5       0.66      0.65      0.65      5439\n",
      "           6       0.65      0.83      0.73      2667\n",
      "\n",
      "    accuracy                           0.59     32318\n",
      "   macro avg       0.56      0.59      0.57     32318\n",
      "weighted avg       0.61      0.59      0.60     32318\n",
      "\n"
     ]
    }
   ],
   "source": [
    "dt_test_report = classification_report(dt.predict(x_test) , y_test)\n",
    "print(dt_test_report)"
   ]
  },
  {
   "cell_type": "code",
   "execution_count": 75,
   "metadata": {},
   "outputs": [
    {
     "name": "stdout",
     "output_type": "stream",
     "text": [
      "1605983\n"
     ]
    }
   ],
   "source": [
    "with open(os.getcwd().replace('/notebook' , '') + \"/model/dt_model.py\" , \"w\") as f:\n",
    "  f.write(m2cgen.export_to_python(dt))\n",
    "print(os.path.getsize(os.getcwd().replace('/notebook' , '') + \"/model/dt_model.py\" ))"
   ]
  },
  {
   "cell_type": "markdown",
   "metadata": {},
   "source": [
    "### XGBoost"
   ]
  },
  {
   "cell_type": "code",
   "execution_count": 56,
   "metadata": {},
   "outputs": [
    {
     "name": "stderr",
     "output_type": "stream",
     "text": [
      "/opt/anaconda3/envs/pranit/lib/python3.12/site-packages/joblib/externals/loky/process_executor.py:752: UserWarning: A worker stopped while some jobs were given to the executor. This can be caused by a too short worker timeout or by a memory leak.\n",
      "  warnings.warn(\n"
     ]
    },
    {
     "data": {
      "text/html": [
       "<div>\n",
       "<style scoped>\n",
       "    .dataframe tbody tr th:only-of-type {\n",
       "        vertical-align: middle;\n",
       "    }\n",
       "\n",
       "    .dataframe tbody tr th {\n",
       "        vertical-align: top;\n",
       "    }\n",
       "\n",
       "    .dataframe thead th {\n",
       "        text-align: right;\n",
       "    }\n",
       "</style>\n",
       "<table border=\"1\" class=\"dataframe\">\n",
       "  <thead>\n",
       "    <tr style=\"text-align: right;\">\n",
       "      <th></th>\n",
       "      <th>mean_test_score</th>\n",
       "      <th>params</th>\n",
       "    </tr>\n",
       "  </thead>\n",
       "  <tbody>\n",
       "    <tr>\n",
       "      <th>2</th>\n",
       "      <td>0.632194</td>\n",
       "      <td>{'n_estimators': 12, 'max_depth': 12, 'learning_rate': 1}</td>\n",
       "    </tr>\n",
       "    <tr>\n",
       "      <th>8</th>\n",
       "      <td>0.611888</td>\n",
       "      <td>{'n_estimators': 10, 'max_depth': 10, 'learning_rate': 0.3}</td>\n",
       "    </tr>\n",
       "    <tr>\n",
       "      <th>0</th>\n",
       "      <td>0.598640</td>\n",
       "      <td>{'n_estimators': 15, 'max_depth': 7, 'learning_rate': 1}</td>\n",
       "    </tr>\n",
       "    <tr>\n",
       "      <th>7</th>\n",
       "      <td>0.557573</td>\n",
       "      <td>{'n_estimators': 7, 'max_depth': 10, 'learning_rate': 0.01}</td>\n",
       "    </tr>\n",
       "    <tr>\n",
       "      <th>6</th>\n",
       "      <td>0.556935</td>\n",
       "      <td>{'n_estimators': 15, 'max_depth': 7, 'learning_rate': 0.3}</td>\n",
       "    </tr>\n",
       "    <tr>\n",
       "      <th>4</th>\n",
       "      <td>0.478611</td>\n",
       "      <td>{'n_estimators': 15, 'max_depth': 2, 'learning_rate': 1}</td>\n",
       "    </tr>\n",
       "    <tr>\n",
       "      <th>3</th>\n",
       "      <td>0.463613</td>\n",
       "      <td>{'n_estimators': 12, 'max_depth': 5, 'learning_rate': 0.01}</td>\n",
       "    </tr>\n",
       "    <tr>\n",
       "      <th>5</th>\n",
       "      <td>0.437224</td>\n",
       "      <td>{'n_estimators': 12, 'max_depth': 3, 'learning_rate': 0.01}</td>\n",
       "    </tr>\n",
       "    <tr>\n",
       "      <th>9</th>\n",
       "      <td>0.435494</td>\n",
       "      <td>{'n_estimators': 5, 'max_depth': 3, 'learning_rate': 0.01}</td>\n",
       "    </tr>\n",
       "    <tr>\n",
       "      <th>1</th>\n",
       "      <td>0.428464</td>\n",
       "      <td>{'n_estimators': 5, 'max_depth': 2, 'learning_rate': 0.3}</td>\n",
       "    </tr>\n",
       "  </tbody>\n",
       "</table>\n",
       "</div>"
      ],
      "text/plain": [
       "   mean_test_score                                                       params\n",
       "2         0.632194    {'n_estimators': 12, 'max_depth': 12, 'learning_rate': 1}\n",
       "8         0.611888  {'n_estimators': 10, 'max_depth': 10, 'learning_rate': 0.3}\n",
       "0         0.598640     {'n_estimators': 15, 'max_depth': 7, 'learning_rate': 1}\n",
       "7         0.557573  {'n_estimators': 7, 'max_depth': 10, 'learning_rate': 0.01}\n",
       "6         0.556935   {'n_estimators': 15, 'max_depth': 7, 'learning_rate': 0.3}\n",
       "4         0.478611     {'n_estimators': 15, 'max_depth': 2, 'learning_rate': 1}\n",
       "3         0.463613  {'n_estimators': 12, 'max_depth': 5, 'learning_rate': 0.01}\n",
       "5         0.437224  {'n_estimators': 12, 'max_depth': 3, 'learning_rate': 0.01}\n",
       "9         0.435494   {'n_estimators': 5, 'max_depth': 3, 'learning_rate': 0.01}\n",
       "1         0.428464    {'n_estimators': 5, 'max_depth': 2, 'learning_rate': 0.3}"
      ]
     },
     "execution_count": 56,
     "metadata": {},
     "output_type": "execute_result"
    }
   ],
   "source": [
    "xgb = XGBClassifier()\n",
    "\n",
    "param_dist = {\n",
    "    'n_estimators' : [ 2 , 3 , 5 , 7 , 10 , 12 , 15],\n",
    "    'max_depth' : [2 , 3 , 5 , 7 , 10 , 12 , 15],\n",
    "    \"learning_rate\": [0.01, 0.3, 1]\n",
    "    }\n",
    "\n",
    "random_search = RandomizedSearchCV(estimator = xgb,\n",
    "                                    param_distributions = param_dist,\n",
    "                                    cv = 5,\n",
    "                                    random_state=42,\n",
    "                                    n_jobs=-1\n",
    "                                    )\n",
    "random_search.fit(x_train, y_train_encoded)\n",
    "\n",
    "cv_results = pd.DataFrame(random_search.cv_results_)\n",
    "cv_results = cv_results[[\"mean_test_score\", \"params\"]].sort_values(by=\"mean_test_score\", ascending=False)\n",
    "\n",
    "cv_results "
   ]
  },
  {
   "cell_type": "code",
   "execution_count": 35,
   "metadata": {},
   "outputs": [
    {
     "name": "stdout",
     "output_type": "stream",
     "text": [
      "              precision    recall  f1-score   support\n",
      "\n",
      "           1       0.77      0.76      0.77      6684\n",
      "           2       0.71      0.65      0.68      9820\n",
      "           3       0.49      0.52      0.50      4752\n",
      "           4       0.34      0.41      0.38      2392\n",
      "           5       0.72      0.68      0.70      5703\n",
      "           6       0.72      0.81      0.76      2967\n",
      "\n",
      "    accuracy                           0.66     32318\n",
      "   macro avg       0.62      0.64      0.63     32318\n",
      "weighted avg       0.66      0.66      0.66     32318\n",
      "\n"
     ]
    }
   ],
   "source": [
    "xgb = XGBClassifier(n_estimators = 30 , max_depth = 20 , learning_rate = 0.3 , num_parallel_tree = 1)\n",
    "xgb.fit(x_train , y_train_encoded)\n",
    "xgb.score(x_val , y_val_encoded)\n",
    "xgb_test_report = classification_report(label_encoder.inverse_transform(xgb.predict(x_test)) , label_encoder.inverse_transform(y_test_encoded))\n",
    "print(xgb_test_report)"
   ]
  },
  {
   "cell_type": "code",
   "execution_count": 36,
   "metadata": {},
   "outputs": [
    {
     "name": "stdout",
     "output_type": "stream",
     "text": [
      "35459619\n"
     ]
    }
   ],
   "source": [
    "joblib.dump(xgb, os.getcwd().replace('/notebook' , '') + \"/model/xgb_model.pkl\" )\n",
    "print(os.path.getsize(os.getcwd().replace('/notebook' , '') + \"/model/xgb_model.pkl\" ))"
   ]
  },
  {
   "cell_type": "markdown",
   "metadata": {},
   "source": [
    "#### Memory Optimization"
   ]
  },
  {
   "cell_type": "code",
   "execution_count": 57,
   "metadata": {},
   "outputs": [
    {
     "name": "stdout",
     "output_type": "stream",
     "text": [
      "              precision    recall  f1-score   support\n",
      "\n",
      "           1       0.73      0.69      0.71      5562\n",
      "           2       0.67      0.58      0.62      8447\n",
      "           3       0.41      0.48      0.44      3394\n",
      "           4       0.24      0.39      0.30      1418\n",
      "           5       0.73      0.65      0.69      4792\n",
      "           6       0.71      0.83      0.76      2241\n",
      "\n",
      "    accuracy                           0.62     25854\n",
      "   macro avg       0.58      0.60      0.59     25854\n",
      "weighted avg       0.64      0.62      0.62     25854\n",
      "\n"
     ]
    }
   ],
   "source": [
    "xgb = XGBClassifier(n_estimators = 2 , max_depth = 12 , learning_rate = 1 , num_parallel_tree = 1)\n",
    "xgb.fit(x_train , y_train_encoded)\n",
    "xgb.score(x_val , y_val_encoded)\n",
    "xgb_report = classification_report(label_encoder.inverse_transform(xgb.predict(x_val)) , label_encoder.inverse_transform(y_val_encoded))\n",
    "print(xgb_report)"
   ]
  },
  {
   "cell_type": "code",
   "execution_count": 58,
   "metadata": {},
   "outputs": [
    {
     "name": "stdout",
     "output_type": "stream",
     "text": [
      "              precision    recall  f1-score   support\n",
      "\n",
      "           1       0.79      0.74      0.77     22436\n",
      "           2       0.76      0.65      0.70     33512\n",
      "           3       0.54      0.65      0.59     13347\n",
      "           4       0.43      0.67      0.52      6069\n",
      "           5       0.81      0.75      0.78     18750\n",
      "           6       0.77      0.88      0.82      9302\n",
      "\n",
      "    accuracy                           0.71    103416\n",
      "   macro avg       0.68      0.72      0.70    103416\n",
      "weighted avg       0.73      0.71      0.72    103416\n",
      "\n"
     ]
    }
   ],
   "source": [
    "xgb_train_report = classification_report(label_encoder.inverse_transform(xgb.predict(x_train)) , label_encoder.inverse_transform(y_train_encoded))\n",
    "print(xgb_train_report)"
   ]
  },
  {
   "cell_type": "code",
   "execution_count": 59,
   "metadata": {},
   "outputs": [
    {
     "name": "stdout",
     "output_type": "stream",
     "text": [
      "              precision    recall  f1-score   support\n",
      "\n",
      "           1       0.72      0.69      0.70      6869\n",
      "           2       0.68      0.58      0.63     10623\n",
      "           3       0.40      0.48      0.43      4218\n",
      "           4       0.23      0.37      0.29      1836\n",
      "           5       0.71      0.65      0.68      5965\n",
      "           6       0.69      0.83      0.76      2807\n",
      "\n",
      "    accuracy                           0.61     32318\n",
      "   macro avg       0.57      0.60      0.58     32318\n",
      "weighted avg       0.63      0.61      0.62     32318\n",
      "\n"
     ]
    }
   ],
   "source": [
    "xgb_test_report = classification_report(label_encoder.inverse_transform(xgb.predict(x_test)) , label_encoder.inverse_transform(y_test_encoded))\n",
    "print(xgb_test_report)"
   ]
  },
  {
   "cell_type": "code",
   "execution_count": 60,
   "metadata": {},
   "outputs": [
    {
     "name": "stdout",
     "output_type": "stream",
     "text": [
      "2530152\n"
     ]
    }
   ],
   "source": [
    "with open(os.getcwd().replace('/notebook' , '') + \"/model/xgb_model.py\" , \"w\") as f:\n",
    "  f.write(m2cgen.export_to_python(xgb))\n",
    "print(os.path.getsize(os.getcwd().replace('/notebook' , '') + \"/model/xgb_model.py\" ))"
   ]
  },
  {
   "cell_type": "markdown",
   "metadata": {},
   "source": [
    "### Model Accuracy Comparision"
   ]
  },
  {
   "cell_type": "code",
   "execution_count": 63,
   "metadata": {},
   "outputs": [
    {
     "data": {
      "image/png": "[encoded data removed]",
      "text/plain": [
       "<Figure size 600x600 with 1 Axes>"
      ]
     },
     "metadata": {},
     "output_type": "display_data"
    }
   ],
   "source": [
    "# Define models and values\n",
    "models = {\n",
    "    \"Random Forest\": [0.54 , 1.805, 0.15, 1.1],\n",
    "    \"Decision Tree\": [0.59 , 0.441, 0.15, 0.1],\n",
    "    \"XGBoost\": [0.61 , 0.354, 0.25, 0.3]\n",
    "}\n",
    "metrics = [\"Accuracy\" , \"Model Size\", \"Reduced Size\", \"Change in Accuracy\"]\n",
    "\n",
    "# Convert to radians\n",
    "angles = np.linspace(0, 2 * np.pi, len(metrics), endpoint=False).tolist()\n",
    "angles += angles[:1]  # Complete the loop\n",
    "\n",
    "fig, ax = plt.subplots(figsize=(6, 6), subplot_kw=dict(polar=True))\n",
    "\n",
    "# Plot each model\n",
    "for model, values in models.items():\n",
    "    values += values[:1]  # Close the loop\n",
    "    ax.plot(angles, values, label=model, linewidth=2)\n",
    "    ax.fill(angles, values, alpha=0.25)  # Fill area\n",
    "\n",
    "ax.set_yticklabels([])\n",
    "ax.set_xticks(angles[:-1])\n",
    "ax.set_xticklabels(metrics)\n",
    "ax.legend(loc=\"upper right\", bbox_to_anchor=(1.3, 1.1))\n",
    "plt.title(\"Model Comparison - Radar Plot\")\n",
    "plt.show()"
   ]
  }
 ],
 "metadata": {
  "kernelspec": {
   "display_name": "pranit",
   "language": "python",
   "name": "python3"
  },
  "language_info": {
   "codemirror_mode": {
    "name": "ipython",
    "version": 3
   },
   "file_extension": ".py",
   "mimetype": "text/x-python",
   "name": "python",
   "nbconvert_exporter": "python",
   "pygments_lexer": "ipython3",
   "version": "3.12.8"
  }
 },
 "nbformat": 4,
 "nbformat_minor": 2
}
